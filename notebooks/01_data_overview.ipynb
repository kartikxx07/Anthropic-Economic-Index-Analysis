{
 "cells": [
  {
   "cell_type": "code",
   "execution_count": 1,
   "metadata": {},
   "outputs": [],
   "source": [
    "import pandas as pd\n",
    "import numpy as np\n",
    "import matplotlib.pyplot as plt"
   ]
  },
  {
   "cell_type": "code",
   "execution_count": 2,
   "metadata": {},
   "outputs": [],
   "source": [
    "df_automation_vs_augmentation = pd.read_csv(\"/Users/kartikayluthra/Desktop/anthropic economic index/data/automation_vs_augmentation.csv\")"
   ]
  },
  {
   "cell_type": "code",
   "execution_count": 3,
   "metadata": {},
   "outputs": [
    {
     "data": {
      "text/html": [
       "<div>\n",
       "<style scoped>\n",
       "    .dataframe tbody tr th:only-of-type {\n",
       "        vertical-align: middle;\n",
       "    }\n",
       "\n",
       "    .dataframe tbody tr th {\n",
       "        vertical-align: top;\n",
       "    }\n",
       "\n",
       "    .dataframe thead th {\n",
       "        text-align: right;\n",
       "    }\n",
       "</style>\n",
       "<table border=\"1\" class=\"dataframe\">\n",
       "  <thead>\n",
       "    <tr style=\"text-align: right;\">\n",
       "      <th></th>\n",
       "      <th>interaction_type</th>\n",
       "      <th>pct</th>\n",
       "    </tr>\n",
       "  </thead>\n",
       "  <tbody>\n",
       "    <tr>\n",
       "      <th>0</th>\n",
       "      <td>directive</td>\n",
       "      <td>22.563272</td>\n",
       "    </tr>\n",
       "    <tr>\n",
       "      <th>1</th>\n",
       "      <td>feedback loop</td>\n",
       "      <td>12.036303</td>\n",
       "    </tr>\n",
       "    <tr>\n",
       "      <th>2</th>\n",
       "      <td>learning</td>\n",
       "      <td>18.917648</td>\n",
       "    </tr>\n",
       "    <tr>\n",
       "      <th>3</th>\n",
       "      <td>none</td>\n",
       "      <td>2.901302</td>\n",
       "    </tr>\n",
       "    <tr>\n",
       "      <th>4</th>\n",
       "      <td>task iteration</td>\n",
       "      <td>25.476487</td>\n",
       "    </tr>\n",
       "  </tbody>\n",
       "</table>\n",
       "</div>"
      ],
      "text/plain": [
       "  interaction_type        pct\n",
       "0        directive  22.563272\n",
       "1    feedback loop  12.036303\n",
       "2         learning  18.917648\n",
       "3             none   2.901302\n",
       "4   task iteration  25.476487"
      ]
     },
     "execution_count": 3,
     "metadata": {},
     "output_type": "execute_result"
    }
   ],
   "source": [
    "df_automation_vs_augmentation.head()"
   ]
  },
  {
   "cell_type": "code",
   "execution_count": 4,
   "metadata": {},
   "outputs": [
    {
     "data": {
      "image/png": "[encoded data removed]",
      "text/plain": [
       "<Figure size 640x480 with 1 Axes>"
      ]
     },
     "metadata": {},
     "output_type": "display_data"
    },
    {
     "data": {
      "text/plain": [
       "'\\nthis graph shows that AI tool like claude is mostly being used as task iteration \\nwhich is about 25 percent of the conversation use case this means that in terms of\\ngeneral audience claude is still trying to find a product market fit\\nas most people are interested in opting for the free service which comes under\\nfeedback_loop, validation, directive. Hence this makes sense if Anthropic has decided \\nto go into business cases for AI since general people are mostly interested in the free \\nservice.\\n'"
      ]
     },
     "execution_count": 4,
     "metadata": {},
     "output_type": "execute_result"
    }
   ],
   "source": [
    "filtered = df_automation_vs_augmentation[df_automation_vs_augmentation['interaction_type'] != 'none']\n",
    "plt.bar(\n",
    "    filtered['interaction_type'],\n",
    "    filtered['pct']\n",
    ")\n",
    "plt.xlabel(\"interaction type\")\n",
    "plt.ylabel(\"percentage of interactions\")\n",
    "plt.title(\"Automation vs Augmentation\")\n",
    "plt.show()\n",
    "\"\"\"\n",
    "this graph shows that AI tool like claude is mostly being used as task iteration \n",
    "which is about 25 percent of the conversation use case this means that in terms of\n",
    "general audience claude is still trying to find a product market fit\n",
    "as most people are interested in opting for the free service which comes under\n",
    "feedback_loop, validation, directive. Hence this makes sense if Anthropic has decided \n",
    "to go into business cases for AI since general people are mostly interested in the free \n",
    "service.\n",
    "\"\"\""
   ]
  }
 ],
 "metadata": {
  "kernelspec": {
   "display_name": "base",
   "language": "python",
   "name": "python3"
  },
  "language_info": {
   "codemirror_mode": {
    "name": "ipython",
    "version": 3
   },
   "file_extension": ".py",
   "mimetype": "text/x-python",
   "name": "python",
   "nbconvert_exporter": "python",
   "pygments_lexer": "ipython3",
   "version": "3.12.4"
  }
 },
 "nbformat": 4,
 "nbformat_minor": 2
}

{
 "cells": [
  {
   "cell_type": "code",
   "execution_count": 2,
   "metadata": {},
   "outputs": [],
   "source": [
    "import pandas as pd\n",
    "import numpy as np\n",
    "import matplotlib.pyplot as plt"
   ]
  },
  {
   "cell_type": "code",
   "execution_count": 3,
   "metadata": {},
   "outputs": [],
   "source": [
    "df_task_mappings = pd.read_csv(\"/Users/kartikayluthra/Desktop/anthropic economic index/data/onet_task_mappings.csv\")"
   ]
  },
  {
   "cell_type": "code",
   "execution_count": 4,
   "metadata": {},
   "outputs": [
    {
     "data": {
      "text/html": [
       "<div>\n",
       "<style scoped>\n",
       "    .dataframe tbody tr th:only-of-type {\n",
       "        vertical-align: middle;\n",
       "    }\n",
       "\n",
       "    .dataframe tbody tr th {\n",
       "        vertical-align: top;\n",
       "    }\n",
       "\n",
       "    .dataframe thead th {\n",
       "        text-align: right;\n",
       "    }\n",
       "</style>\n",
       "<table border=\"1\" class=\"dataframe\">\n",
       "  <thead>\n",
       "    <tr style=\"text-align: right;\">\n",
       "      <th></th>\n",
       "      <th>task_name</th>\n",
       "      <th>pct</th>\n",
       "    </tr>\n",
       "  </thead>\n",
       "  <tbody>\n",
       "    <tr>\n",
       "      <th>0</th>\n",
       "      <td>act as advisers to student organizations.</td>\n",
       "      <td>0.006775</td>\n",
       "    </tr>\n",
       "    <tr>\n",
       "      <th>1</th>\n",
       "      <td>act as an advocate for farmers or farmers' gro...</td>\n",
       "      <td>0.002997</td>\n",
       "    </tr>\n",
       "    <tr>\n",
       "      <th>2</th>\n",
       "      <td>act as an intermediary in negotiations between...</td>\n",
       "      <td>0.012638</td>\n",
       "    </tr>\n",
       "    <tr>\n",
       "      <th>3</th>\n",
       "      <td>act as an intermediary in negotiations between...</td>\n",
       "      <td>0.011466</td>\n",
       "    </tr>\n",
       "    <tr>\n",
       "      <th>4</th>\n",
       "      <td>act as liaisons between clients and medical st...</td>\n",
       "      <td>0.001954</td>\n",
       "    </tr>\n",
       "  </tbody>\n",
       "</table>\n",
       "</div>"
      ],
      "text/plain": [
       "                                           task_name       pct\n",
       "0          act as advisers to student organizations.  0.006775\n",
       "1  act as an advocate for farmers or farmers' gro...  0.002997\n",
       "2  act as an intermediary in negotiations between...  0.012638\n",
       "3  act as an intermediary in negotiations between...  0.011466\n",
       "4  act as liaisons between clients and medical st...  0.001954"
      ]
     },
     "execution_count": 4,
     "metadata": {},
     "output_type": "execute_result"
    }
   ],
   "source": [
    "df_task_mappings.head()"
   ]
  },
  {
   "cell_type": "code",
   "execution_count": 5,
   "metadata": {},
   "outputs": [
    {
     "name": "stdout",
     "output_type": "stream",
     "text": [
      "{'liaison': 0.0165470156740627, 'intermediary': 0.0241039204700915, 'adviser': 0.0067751560240257, 'students': 4.109523002957611}\n"
     ]
    },
    {
     "data": {
      "image/png": "[encoded data removed]",
      "text/plain": [
       "<Figure size 640x480 with 1 Axes>"
      ]
     },
     "metadata": {},
     "output_type": "display_data"
    },
    {
     "data": {
      "text/plain": [
       "'\\nfrom this analysis we can see what is mostly the target\\naudience of the tasks that people delegate to claude\\nthis also gives us a glimpse of where startups in AI might\\nbe most profitable as well. something that anthropic must really\\nlook at.\\n'"
      ]
     },
     "execution_count": 5,
     "metadata": {},
     "output_type": "execute_result"
    }
   ],
   "source": [
    "keywords = [\"liaison\", \"intermediary\", \"adviser\", \"students\"]\n",
    "results = {}\n",
    "for word in keywords:\n",
    "    mask = df_task_mappings[\"task_name\"].str.contains(fr\"\\b{word}s?\\b\", case=False, regex=True)\n",
    "    results[word] = df_task_mappings.loc[mask, \"pct\"].sum()\n",
    "\n",
    "print(results)\n",
    "\n",
    "plt.bar(results.keys(), results.values())\n",
    "plt.xlabel(\"Keyword\")\n",
    "plt.ylabel(\"Total percentage\")\n",
    "plt.title(\"Task share by keyword\")\n",
    "plt.show()\n",
    "\n",
    "\"\"\"\n",
    "from this analysis we can see what is mostly the target\n",
    "audience of the tasks that people delegate to claude\n",
    "this also gives us a glimpse of where startups in AI might\n",
    "be most profitable as well. something that anthropic must really\n",
    "look at.\n",
    "\"\"\""
   ]
  }
 ],
 "metadata": {
  "kernelspec": {
   "display_name": "base",
   "language": "python",
   "name": "python3"
  },
  "language_info": {
   "codemirror_mode": {
    "name": "ipython",
    "version": 3
   },
   "file_extension": ".py",
   "mimetype": "text/x-python",
   "name": "python",
   "nbconvert_exporter": "python",
   "pygments_lexer": "ipython3",
   "version": "3.12.4"
  }
 },
 "nbformat": 4,
 "nbformat_minor": 2
}

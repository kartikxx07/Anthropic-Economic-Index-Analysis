{
 "cells": [
  {
   "cell_type": "code",
   "execution_count": 2,
   "id": "88e6faa1-900d-4366-8a2b-33924d36fdab",
   "metadata": {},
   "outputs": [
    {
     "ename": "ModuleNotFoundError",
     "evalue": "No module named 'pandas'",
     "output_type": "error",
     "traceback": [
      "\u001b[0;31m---------------------------------------------------------------------------\u001b[0m",
      "\u001b[0;31mModuleNotFoundError\u001b[0m                       Traceback (most recent call last)",
      "Cell \u001b[0;32mIn[2], line 1\u001b[0m\n\u001b[0;32m----> 1\u001b[0m \u001b[38;5;28;01mimport\u001b[39;00m \u001b[38;5;21;01mpandas\u001b[39;00m \u001b[38;5;28;01mas\u001b[39;00m \u001b[38;5;21;01mpd\u001b[39;00m\n\u001b[1;32m      2\u001b[0m \u001b[38;5;28;01mimport\u001b[39;00m \u001b[38;5;21;01mnumpy\u001b[39;00m \u001b[38;5;28;01mas\u001b[39;00m \u001b[38;5;21;01mnp\u001b[39;00m\n\u001b[1;32m      3\u001b[0m \u001b[38;5;28;01mimport\u001b[39;00m \u001b[38;5;21;01mmatplotlib\u001b[39;00m\u001b[38;5;21;01m.\u001b[39;00m\u001b[38;5;21;01mpyplot\u001b[39;00m \u001b[38;5;28;01mas\u001b[39;00m \u001b[38;5;21;01mplt\u001b[39;00m\n",
      "\u001b[0;31mModuleNotFoundError\u001b[0m: No module named 'pandas'"
     ]
    }
   ],
   "source": [
    "import pandas as pd\n",
    "import numpy as np\n",
    "import matplotlib.pyplot as plt"
   ]
  },
  {
   "cell_type": "code",
   "execution_count": null,
   "id": "a62d9421-dc2d-40c7-b8cd-8d3495a34caa",
   "metadata": {},
   "outputs": [],
   "source": [
    "df_automation_vs_augmentation = pd.read_csv(\"/Users/kartikayluthra/Desktop/anthropic economic index/automation_vs_augmentation.csv\")"
   ]
  },
  {
   "cell_type": "code",
   "execution_count": null,
   "id": "cdfefa8d-9175-4a46-8425-44d7eeaf9afe",
   "metadata": {},
   "outputs": [],
   "source": [
    "df_automation_vs_augmentation.head()"
   ]
  },
  {
   "cell_type": "code",
   "execution_count": null,
   "id": "55ecd558-c52b-4b69-ae10-605e7277d7d0",
   "metadata": {},
   "outputs": [],
   "source": [
    "filtered = df_automation_vs_augmentation[df_automation_vs_augmentation['interaction_type'] != 'none']\n",
    "plt.bar(\n",
    "    filtered['interaction_type'],\n",
    "    filtered['pct']\n",
    ")\n",
    "plt.xlabel(\"interaction type\")\n",
    "plt.ylabel(\"percentage of interactions\")\n",
    "plt.title(\"Automation vs Augmentation\")\n",
    "plt.show()\n",
    "\"\"\"\n",
    "this graph shows that AI tool like claude is mostly being used as task iteration \n",
    "which is about 25 percent of the conversation use case this means that in terms of\n",
    "general audience claude is still trying to find a product market fit\n",
    "as most people are interested in opting for the free service which comes under\n",
    "feedback_loop, validation, directive. Hence this makes sense if Anthropic has decided \n",
    "to go into business cases for AI since general people are mostly interested in the free \n",
    "service.\n",
    "\"\"\""
   ]
  },
  {
   "cell_type": "code",
   "execution_count": null,
   "id": "93aafd3b-bd57-4754-b56d-735db2932505",
   "metadata": {},
   "outputs": [],
   "source": [
    "df_bls = pd.read_csv(\"/Users/kartikayluthra/Desktop/anthropic economic index/bls_employment_may_2023.csv\")"
   ]
  },
  {
   "cell_type": "code",
   "execution_count": null,
   "id": "60d903f5-b2f7-45d9-b174-e5d4498dbcfe",
   "metadata": {},
   "outputs": [],
   "source": [
    "df_bls.head()"
   ]
  },
  {
   "cell_type": "code",
   "execution_count": null,
   "id": "93714413-cfce-466e-9bd3-647e552ca8fb",
   "metadata": {},
   "outputs": [],
   "source": [
    "plt.bar(\n",
    "    df_bls['SOC or O*NET-SOC 2019 Title'],\n",
    "    df_bls['bls_distribution']\n",
    ")\n",
    "plt.xlabel(\"Job Title\")\n",
    "plt.ylabel(\"no of jobs\")\n",
    "plt.show()\n",
    "\n",
    "\"\"\"\n",
    "general overview of jobs data from the us labour department\n",
    "\"\"\""
   ]
  },
  {
   "cell_type": "code",
   "execution_count": null,
   "id": "c247e019-5197-40e8-965c-4f77b6b58346",
   "metadata": {},
   "outputs": [],
   "source": [
    "df_task_mappings = pd.read_csv(\"/Users/kartikayluthra/Desktop/anthropic economic index/onet_task_mappings.csv\")"
   ]
  },
  {
   "cell_type": "code",
   "execution_count": null,
   "id": "3db0eed8-a916-415c-aaef-e45b07c6863d",
   "metadata": {},
   "outputs": [],
   "source": [
    "df_task_mappings.head()"
   ]
  },
  {
   "cell_type": "code",
   "execution_count": null,
   "id": "18e2e62d-6a92-4615-9a12-d51e1ef71462",
   "metadata": {},
   "outputs": [],
   "source": [
    "keywords = [\"liaison\", \"intermediary\", \"adviser\", \"students\"]\n",
    "results = {}\n",
    "for word in keywords:\n",
    "    mask = df_task_mappings[\"task_name\"].str.contains(fr\"\\b{word}s?\\b\", case=False, regex=True)\n",
    "    results[word] = df_task_mappings.loc[mask, \"pct\"].sum()\n",
    "\n",
    "print(results)\n",
    "\n",
    "plt.bar(results.keys(), results.values())\n",
    "plt.xlabel(\"Keyword\")\n",
    "plt.ylabel(\"Total percentage\")\n",
    "plt.title(\"Task share by keyword\")\n",
    "plt.show()\n",
    "\n",
    "\"\"\"\n",
    "from this analysis we can see what is mostly the target\n",
    "audience of the tasks that people delegate to claude\n",
    "this also gives us a glimpse of where startups in AI might\n",
    "be most profitable as well. something that anthropic must really\n",
    "look at.\n",
    "\"\"\""
   ]
  },
  {
   "cell_type": "code",
   "execution_count": null,
   "id": "bd971b99-5887-4a21-8901-20c458f53149",
   "metadata": {},
   "outputs": [],
   "source": [
    "df_wages = pd.read_csv(\"/Users/kartikayluthra/Desktop/anthropic economic index/wage_data.csv\")"
   ]
  },
  {
   "cell_type": "code",
   "execution_count": null,
   "id": "12ab4857-bac8-47a8-82af-43e952de273c",
   "metadata": {},
   "outputs": [],
   "source": [
    "df_wages.head()"
   ]
  },
  {
   "cell_type": "code",
   "execution_count": null,
   "id": "e38b9bd0-4ed2-42c1-972c-12f27c6b3d73",
   "metadata": {},
   "outputs": [],
   "source": [
    "df_soc = pd.read_csv(\"/Users/kartikayluthra/Desktop/anthropic economic index/SOC_Structure.csv\")\n",
    "df_soc.head()\n",
    "df_soc.rename(columns={\"Detailed O*NET-SOC\": \"SOCcode\"}, inplace=True)\n"
   ]
  },
  {
   "cell_type": "code",
   "execution_count": null,
   "id": "6a82a30e-42b4-4d83-838e-aa4eb35668a0",
   "metadata": {},
   "outputs": [],
   "source": [
    "print(df_wages.columns)\n",
    "print(df_soc.columns)\n"
   ]
  },
  {
   "cell_type": "code",
   "execution_count": null,
   "id": "581412fd-18ce-47fd-89fc-55fec97a1861",
   "metadata": {},
   "outputs": [],
   "source": [
    "df_merged = df_wages.merge(df_soc, on='SOCcode', how='left')\n"
   ]
  },
  {
   "cell_type": "code",
   "execution_count": null,
   "id": "e5548b6e-311c-42ab-b0ee-f1eca285a380",
   "metadata": {},
   "outputs": [],
   "source": [
    "df_merged.head()"
   ]
  },
  {
   "cell_type": "code",
   "execution_count": null,
   "id": "6bee11e9-d5a5-4ad6-9801-f48d506b5085",
   "metadata": {},
   "outputs": [],
   "source": [
    "df_task_statements = pd.read_csv(\"/Users/kartikayluthra/Desktop/anthropic economic index/onet_task_statements.csv\")"
   ]
  },
  {
   "cell_type": "code",
   "execution_count": null,
   "id": "8d5dcd2e-8db4-4ba4-bdfe-fab1b19e480b",
   "metadata": {},
   "outputs": [],
   "source": [
    "df_task_statements.head()"
   ]
  },
  {
   "cell_type": "code",
   "execution_count": null,
   "id": "b3b81890-0af9-4ae1-8c47-5ef54c047a1c",
   "metadata": {},
   "outputs": [],
   "source": [
    "df_task_statements.rename(columns = {'O*NET-SOC Code': 'SOCcode'}, inplace = True)"
   ]
  },
  {
   "cell_type": "code",
   "execution_count": null,
   "id": "e58449a6-916c-4e9d-bab1-eab7993f43a0",
   "metadata": {},
   "outputs": [],
   "source": [
    "print(df_task_statements.columns)"
   ]
  },
  {
   "cell_type": "code",
   "execution_count": null,
   "id": "794a6a8f-624a-4942-a868-7862c27e3b8e",
   "metadata": {},
   "outputs": [],
   "source": [
    "df_chief_filtered = df_task_statements[df_task_statements['Title'] == 'Chief Executives']"
   ]
  },
  {
   "cell_type": "code",
   "execution_count": null,
   "id": "53c797d2-3ca5-4ecc-aa3e-23ea6e0df4cb",
   "metadata": {},
   "outputs": [],
   "source": [
    "core_task_chief_count = df_chief_filtered[df_chief_filtered['Task Type'] == 'Core'].shape[0]\n",
    "supplement_task_chief_count = df_chief_filtered[df_chief_filtered['Task Type'] == 'Supplemental'].shape[0]\n",
    "print(core_task_chief_count, supplement_task_chief_count)"
   ]
  },
  {
   "cell_type": "code",
   "execution_count": null,
   "id": "1d4b0d65-0a57-4f8c-84ea-574a7a11e198",
   "metadata": {},
   "outputs": [],
   "source": [
    "labels = ['Core', 'Supplemental']\n",
    "counts = [core_task_chief_count, supplement_task_chief_count]\n",
    "\n",
    "plt.bar(labels, counts, color=['steelblue', 'orange'])\n",
    "plt.title(\"Chief Tasks by Type\")\n",
    "plt.xlabel(\"Task Type\")\n",
    "plt.ylabel(\"Number of Tasks\")\n",
    "plt.show()"
   ]
  },
  {
   "cell_type": "code",
   "execution_count": null,
   "id": "2181625b-4a11-4794-9f60-7861b5da97f8",
   "metadata": {},
   "outputs": [],
   "source": [
    "task_counts = df_task_statements.groupby(['Title', 'Task Type']).size().reset_index(name='count')\n",
    "print(task_counts.head())\n"
   ]
  },
  {
   "cell_type": "code",
   "execution_count": null,
   "id": "07c87802-0821-4be1-99a6-8d56ef4ef1c8",
   "metadata": {},
   "outputs": [],
   "source": [
    "for job, group in task_counts.groupby('Title'):\n",
    "    labels = group['Task Type']\n",
    "    counts = group['count']\n",
    "    \n",
    "    plt.bar(labels, counts)\n",
    "    plt.title(f\"{job} Tasks by Type\")\n",
    "    plt.xlabel(\"Task Type\")\n",
    "    plt.ylabel(\"Number of Tasks\")\n",
    "    plt.show()\n",
    "\n",
    "\"\"\"\n",
    "in this we can see that according to what kind of postions are\n",
    "delagating what kind of tasks to AI agents this proves the potential\n",
    "that AI has in terms of doing jobs if so many people are using AI \n",
    "to do important tasks important is determined by the dataset which is \n",
    "by Anthropics agent Clio maybe we can say that a lot of these core tasks\n",
    "that the officials are doing are all more augmentative. now if there\n",
    "is a way to quantify the results of these people using claude for their use\n",
    "and actually getting better results versus before and if we can look at the speed\n",
    "then we can make better analysis. but we can see that AI has spread exponentially \n",
    "\"\"\""
   ]
  },
  {
   "cell_type": "code",
   "execution_count": null,
   "id": "e1483c67-b978-45d7-a263-db6d11dd64fb",
   "metadata": {},
   "outputs": [],
   "source": [
    "job_family_counts = df_wages['JobFamily'].value_counts()\n",
    "job_family_counts.plot(kind='barh', figsize=(12,6), color='teal')\n",
    "plt.title(\"Number of Jobs by Job Family\")\n",
    "plt.xlabel(\"Job Family\")\n",
    "plt.ylabel(\"Number of Jobs\")\n",
    "plt.xticks(rotation=75, ha='right')\n",
    "plt.show()"
   ]
  },
  {
   "cell_type": "code",
   "execution_count": null,
   "id": "ae11d714-c47e-4fe7-aa1e-6010d6d311f3",
   "metadata": {},
   "outputs": [],
   "source": [
    "df_merged_again = df_merged.merge(df_task_statements, on = 'SOCcode', how = 'left')"
   ]
  },
  {
   "cell_type": "code",
   "execution_count": null,
   "id": "de4d010d-ca5c-4183-9edf-562812d70067",
   "metadata": {},
   "outputs": [],
   "source": [
    "df_merged_again.head()"
   ]
  },
  {
   "cell_type": "code",
   "execution_count": null,
   "id": "d58f1718-8a35-4ec1-bc6d-fe4a03046443",
   "metadata": {},
   "outputs": [],
   "source": []
  }
 ],
 "metadata": {
  "kernelspec": {
   "display_name": "Python 3 (ipykernel)",
   "language": "python",
   "name": "python3"
  },
  "language_info": {
   "codemirror_mode": {
    "name": "ipython",
    "version": 3
   },
   "file_extension": ".py",
   "mimetype": "text/x-python",
   "name": "python",
   "nbconvert_exporter": "python",
   "pygments_lexer": "ipython3",
   "version": "3.12.0"
  }
 },
 "nbformat": 4,
 "nbformat_minor": 5
}
